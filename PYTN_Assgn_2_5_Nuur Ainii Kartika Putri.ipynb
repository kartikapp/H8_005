{
 "cells": [
  {
   "cell_type": "code",
   "execution_count": 1,
   "id": "685a8c8c",
   "metadata": {},
   "outputs": [],
   "source": [
    "import math\n",
    "import statistics\n",
    "import numpy as np\n",
    "import scipy.stats\n",
    "import pandas as pd"
   ]
  },
  {
   "cell_type": "code",
   "execution_count": 2,
   "id": "536bb84a",
   "metadata": {},
   "outputs": [],
   "source": [
    "#for inline plots in jupyter\n",
    "%matplotlib inline\n",
    "\n",
    "import matplotlib.pyplot as plt\n",
    "from IPython.display import Math, Latex\n",
    "from IPython.core.display import Image\n",
    "\n",
    "# import seaborn\n",
    "import seaborn as sns\n",
    "\n",
    "sns.set(color_codes=True)\n",
    "sns.set(rc={'figure.figsize':(5,5)})"
   ]
  },
  {
   "cell_type": "code",
   "execution_count": 3,
   "id": "a76ac71a",
   "metadata": {},
   "outputs": [],
   "source": [
    "df = pd.read_csv(\"nyc-rolling-sales.csv\")"
   ]
  },
  {
   "cell_type": "code",
   "execution_count": 4,
   "id": "d6833c87",
   "metadata": {},
   "outputs": [
    {
     "name": "stdout",
     "output_type": "stream",
     "text": [
      "<class 'pandas.core.frame.DataFrame'>\n",
      "RangeIndex: 84548 entries, 0 to 84547\n",
      "Data columns (total 22 columns):\n",
      " #   Column                          Non-Null Count  Dtype \n",
      "---  ------                          --------------  ----- \n",
      " 0   Unnamed: 0                      84548 non-null  int64 \n",
      " 1   BOROUGH                         84548 non-null  int64 \n",
      " 2   NEIGHBORHOOD                    84548 non-null  object\n",
      " 3   BUILDING CLASS CATEGORY         84548 non-null  object\n",
      " 4   TAX CLASS AT PRESENT            84548 non-null  object\n",
      " 5   BLOCK                           84548 non-null  int64 \n",
      " 6   LOT                             84548 non-null  int64 \n",
      " 7   EASE-MENT                       84548 non-null  object\n",
      " 8   BUILDING CLASS AT PRESENT       84548 non-null  object\n",
      " 9   ADDRESS                         84548 non-null  object\n",
      " 10  APARTMENT NUMBER                84548 non-null  object\n",
      " 11  ZIP CODE                        84548 non-null  int64 \n",
      " 12  RESIDENTIAL UNITS               84548 non-null  int64 \n",
      " 13  COMMERCIAL UNITS                84548 non-null  int64 \n",
      " 14  TOTAL UNITS                     84548 non-null  int64 \n",
      " 15  LAND SQUARE FEET                84548 non-null  object\n",
      " 16  GROSS SQUARE FEET               84548 non-null  object\n",
      " 17  YEAR BUILT                      84548 non-null  int64 \n",
      " 18  TAX CLASS AT TIME OF SALE       84548 non-null  int64 \n",
      " 19  BUILDING CLASS AT TIME OF SALE  84548 non-null  object\n",
      " 20  SALE PRICE                      84548 non-null  object\n",
      " 21  SALE DATE                       84548 non-null  object\n",
      "dtypes: int64(10), object(12)\n",
      "memory usage: 14.2+ MB\n"
     ]
    }
   ],
   "source": [
    "df.info()"
   ]
  },
  {
   "cell_type": "code",
   "execution_count": 5,
   "id": "c8c054df",
   "metadata": {},
   "outputs": [],
   "source": [
    "numeric = [\"RESIDENTIAL UNITS\",\"COMMERCIAL UNITS\",\"TOTAL UNITS\", \"LAND SQUARE FEET\" , \"GROSS SQUARE FEET\",\"SALE PRICE\" ]\n",
    "\n",
    "for col in numeric: \n",
    "    df[col] = pd.to_numeric(df[col], errors='coerce')"
   ]
  },
  {
   "cell_type": "code",
   "execution_count": 6,
   "id": "a46e5932",
   "metadata": {},
   "outputs": [
    {
     "data": {
      "text/html": [
       "<div>\n",
       "<style scoped>\n",
       "    .dataframe tbody tr th:only-of-type {\n",
       "        vertical-align: middle;\n",
       "    }\n",
       "\n",
       "    .dataframe tbody tr th {\n",
       "        vertical-align: top;\n",
       "    }\n",
       "\n",
       "    .dataframe thead th {\n",
       "        text-align: right;\n",
       "    }\n",
       "</style>\n",
       "<table border=\"1\" class=\"dataframe\">\n",
       "  <thead>\n",
       "    <tr style=\"text-align: right;\">\n",
       "      <th></th>\n",
       "      <th>BOROUGH</th>\n",
       "      <th>NEIGHBORHOOD</th>\n",
       "      <th>BUILDING CLASS CATEGORY</th>\n",
       "      <th>TAX CLASS AT PRESENT</th>\n",
       "      <th>BLOCK</th>\n",
       "      <th>LOT</th>\n",
       "      <th>BUILDING CLASS AT PRESENT</th>\n",
       "      <th>ADDRESS</th>\n",
       "      <th>ZIP CODE</th>\n",
       "      <th>RESIDENTIAL UNITS</th>\n",
       "      <th>COMMERCIAL UNITS</th>\n",
       "      <th>TOTAL UNITS</th>\n",
       "      <th>LAND SQUARE FEET</th>\n",
       "      <th>GROSS SQUARE FEET</th>\n",
       "      <th>YEAR BUILT</th>\n",
       "      <th>TAX CLASS AT TIME OF SALE</th>\n",
       "      <th>BUILDING CLASS AT TIME OF SALE</th>\n",
       "      <th>SALE PRICE</th>\n",
       "      <th>SALE DATE</th>\n",
       "    </tr>\n",
       "  </thead>\n",
       "  <tbody>\n",
       "    <tr>\n",
       "      <th>0</th>\n",
       "      <td>1</td>\n",
       "      <td>ALPHABET CITY</td>\n",
       "      <td>07 RENTALS - WALKUP APARTMENTS</td>\n",
       "      <td>2A</td>\n",
       "      <td>392</td>\n",
       "      <td>6</td>\n",
       "      <td>C2</td>\n",
       "      <td>153 AVENUE B</td>\n",
       "      <td>10009</td>\n",
       "      <td>5</td>\n",
       "      <td>0</td>\n",
       "      <td>5</td>\n",
       "      <td>1633.0</td>\n",
       "      <td>6440.0</td>\n",
       "      <td>1900</td>\n",
       "      <td>2</td>\n",
       "      <td>C2</td>\n",
       "      <td>6625000.0</td>\n",
       "      <td>2017-07-19 00:00:00</td>\n",
       "    </tr>\n",
       "    <tr>\n",
       "      <th>1</th>\n",
       "      <td>1</td>\n",
       "      <td>ALPHABET CITY</td>\n",
       "      <td>07 RENTALS - WALKUP APARTMENTS</td>\n",
       "      <td>2</td>\n",
       "      <td>399</td>\n",
       "      <td>26</td>\n",
       "      <td>C7</td>\n",
       "      <td>234 EAST 4TH   STREET</td>\n",
       "      <td>10009</td>\n",
       "      <td>28</td>\n",
       "      <td>3</td>\n",
       "      <td>31</td>\n",
       "      <td>4616.0</td>\n",
       "      <td>18690.0</td>\n",
       "      <td>1900</td>\n",
       "      <td>2</td>\n",
       "      <td>C7</td>\n",
       "      <td>NaN</td>\n",
       "      <td>2016-12-14 00:00:00</td>\n",
       "    </tr>\n",
       "    <tr>\n",
       "      <th>2</th>\n",
       "      <td>1</td>\n",
       "      <td>ALPHABET CITY</td>\n",
       "      <td>07 RENTALS - WALKUP APARTMENTS</td>\n",
       "      <td>2</td>\n",
       "      <td>399</td>\n",
       "      <td>39</td>\n",
       "      <td>C7</td>\n",
       "      <td>197 EAST 3RD   STREET</td>\n",
       "      <td>10009</td>\n",
       "      <td>16</td>\n",
       "      <td>1</td>\n",
       "      <td>17</td>\n",
       "      <td>2212.0</td>\n",
       "      <td>7803.0</td>\n",
       "      <td>1900</td>\n",
       "      <td>2</td>\n",
       "      <td>C7</td>\n",
       "      <td>NaN</td>\n",
       "      <td>2016-12-09 00:00:00</td>\n",
       "    </tr>\n",
       "    <tr>\n",
       "      <th>3</th>\n",
       "      <td>1</td>\n",
       "      <td>ALPHABET CITY</td>\n",
       "      <td>07 RENTALS - WALKUP APARTMENTS</td>\n",
       "      <td>2B</td>\n",
       "      <td>402</td>\n",
       "      <td>21</td>\n",
       "      <td>C4</td>\n",
       "      <td>154 EAST 7TH STREET</td>\n",
       "      <td>10009</td>\n",
       "      <td>10</td>\n",
       "      <td>0</td>\n",
       "      <td>10</td>\n",
       "      <td>2272.0</td>\n",
       "      <td>6794.0</td>\n",
       "      <td>1913</td>\n",
       "      <td>2</td>\n",
       "      <td>C4</td>\n",
       "      <td>3936272.0</td>\n",
       "      <td>2016-09-23 00:00:00</td>\n",
       "    </tr>\n",
       "    <tr>\n",
       "      <th>4</th>\n",
       "      <td>1</td>\n",
       "      <td>ALPHABET CITY</td>\n",
       "      <td>07 RENTALS - WALKUP APARTMENTS</td>\n",
       "      <td>2A</td>\n",
       "      <td>404</td>\n",
       "      <td>55</td>\n",
       "      <td>C2</td>\n",
       "      <td>301 EAST 10TH   STREET</td>\n",
       "      <td>10009</td>\n",
       "      <td>6</td>\n",
       "      <td>0</td>\n",
       "      <td>6</td>\n",
       "      <td>2369.0</td>\n",
       "      <td>4615.0</td>\n",
       "      <td>1900</td>\n",
       "      <td>2</td>\n",
       "      <td>C2</td>\n",
       "      <td>8000000.0</td>\n",
       "      <td>2016-11-17 00:00:00</td>\n",
       "    </tr>\n",
       "  </tbody>\n",
       "</table>\n",
       "</div>"
      ],
      "text/plain": [
       "   BOROUGH   NEIGHBORHOOD                      BUILDING CLASS CATEGORY  \\\n",
       "0        1  ALPHABET CITY  07 RENTALS - WALKUP APARTMENTS                \n",
       "1        1  ALPHABET CITY  07 RENTALS - WALKUP APARTMENTS                \n",
       "2        1  ALPHABET CITY  07 RENTALS - WALKUP APARTMENTS                \n",
       "3        1  ALPHABET CITY  07 RENTALS - WALKUP APARTMENTS                \n",
       "4        1  ALPHABET CITY  07 RENTALS - WALKUP APARTMENTS                \n",
       "\n",
       "  TAX CLASS AT PRESENT  BLOCK  LOT BUILDING CLASS AT PRESENT  \\\n",
       "0                   2A    392    6                        C2   \n",
       "1                    2    399   26                        C7   \n",
       "2                    2    399   39                        C7   \n",
       "3                   2B    402   21                        C4   \n",
       "4                   2A    404   55                        C2   \n",
       "\n",
       "                  ADDRESS  ZIP CODE  RESIDENTIAL UNITS  COMMERCIAL UNITS  \\\n",
       "0            153 AVENUE B     10009                  5                 0   \n",
       "1   234 EAST 4TH   STREET     10009                 28                 3   \n",
       "2   197 EAST 3RD   STREET     10009                 16                 1   \n",
       "3     154 EAST 7TH STREET     10009                 10                 0   \n",
       "4  301 EAST 10TH   STREET     10009                  6                 0   \n",
       "\n",
       "   TOTAL UNITS  LAND SQUARE FEET  GROSS SQUARE FEET  YEAR BUILT  \\\n",
       "0            5            1633.0             6440.0        1900   \n",
       "1           31            4616.0            18690.0        1900   \n",
       "2           17            2212.0             7803.0        1900   \n",
       "3           10            2272.0             6794.0        1913   \n",
       "4            6            2369.0             4615.0        1900   \n",
       "\n",
       "   TAX CLASS AT TIME OF SALE BUILDING CLASS AT TIME OF SALE  SALE PRICE  \\\n",
       "0                          2                             C2   6625000.0   \n",
       "1                          2                             C7         NaN   \n",
       "2                          2                             C7         NaN   \n",
       "3                          2                             C4   3936272.0   \n",
       "4                          2                             C2   8000000.0   \n",
       "\n",
       "             SALE DATE  \n",
       "0  2017-07-19 00:00:00  \n",
       "1  2016-12-14 00:00:00  \n",
       "2  2016-12-09 00:00:00  \n",
       "3  2016-09-23 00:00:00  \n",
       "4  2016-11-17 00:00:00  "
      ]
     },
     "execution_count": 6,
     "metadata": {},
     "output_type": "execute_result"
    }
   ],
   "source": [
    "df.drop([\"Unnamed: 0\", \"EASE-MENT\",\"APARTMENT NUMBER\"], axis=1, inplace=True)\n",
    "df.head()"
   ]
  },
  {
   "cell_type": "code",
   "execution_count": 7,
   "id": "fa0c47e5",
   "metadata": {},
   "outputs": [
    {
     "name": "stdout",
     "output_type": "stream",
     "text": [
      "<class 'pandas.core.frame.DataFrame'>\n",
      "RangeIndex: 84548 entries, 0 to 84547\n",
      "Data columns (total 19 columns):\n",
      " #   Column                          Non-Null Count  Dtype  \n",
      "---  ------                          --------------  -----  \n",
      " 0   BOROUGH                         84548 non-null  int64  \n",
      " 1   NEIGHBORHOOD                    84548 non-null  object \n",
      " 2   BUILDING CLASS CATEGORY         84548 non-null  object \n",
      " 3   TAX CLASS AT PRESENT            84548 non-null  object \n",
      " 4   BLOCK                           84548 non-null  int64  \n",
      " 5   LOT                             84548 non-null  int64  \n",
      " 6   BUILDING CLASS AT PRESENT       84548 non-null  object \n",
      " 7   ADDRESS                         84548 non-null  object \n",
      " 8   ZIP CODE                        84548 non-null  int64  \n",
      " 9   RESIDENTIAL UNITS               84548 non-null  int64  \n",
      " 10  COMMERCIAL UNITS                84548 non-null  int64  \n",
      " 11  TOTAL UNITS                     84548 non-null  int64  \n",
      " 12  LAND SQUARE FEET                58296 non-null  float64\n",
      " 13  GROSS SQUARE FEET               56936 non-null  float64\n",
      " 14  YEAR BUILT                      84548 non-null  int64  \n",
      " 15  TAX CLASS AT TIME OF SALE       84548 non-null  int64  \n",
      " 16  BUILDING CLASS AT TIME OF SALE  84548 non-null  object \n",
      " 17  SALE PRICE                      69987 non-null  float64\n",
      " 18  SALE DATE                       84548 non-null  object \n",
      "dtypes: float64(3), int64(9), object(7)\n",
      "memory usage: 12.3+ MB\n"
     ]
    }
   ],
   "source": [
    "df.info()"
   ]
  },
  {
   "cell_type": "markdown",
   "id": "dfb80eea",
   "metadata": {},
   "source": [
    "# A. Measure of Central Tendency : Mean"
   ]
  },
  {
   "cell_type": "markdown",
   "id": "94b26b81",
   "metadata": {},
   "source": [
    "**Question :** Berapa rata-rata harga rumah per-masing-masing borough?"
   ]
  },
  {
   "cell_type": "code",
   "execution_count": 8,
   "id": "9262a225",
   "metadata": {},
   "outputs": [
    {
     "data": {
      "text/html": [
       "<div>\n",
       "<style scoped>\n",
       "    .dataframe tbody tr th:only-of-type {\n",
       "        vertical-align: middle;\n",
       "    }\n",
       "\n",
       "    .dataframe tbody tr th {\n",
       "        vertical-align: top;\n",
       "    }\n",
       "\n",
       "    .dataframe thead th {\n",
       "        text-align: right;\n",
       "    }\n",
       "</style>\n",
       "<table border=\"1\" class=\"dataframe\">\n",
       "  <thead>\n",
       "    <tr style=\"text-align: right;\">\n",
       "      <th></th>\n",
       "      <th>SALE PRICE</th>\n",
       "    </tr>\n",
       "    <tr>\n",
       "      <th>BOROUGH</th>\n",
       "      <th></th>\n",
       "    </tr>\n",
       "  </thead>\n",
       "  <tbody>\n",
       "    <tr>\n",
       "      <th>1</th>\n",
       "      <td>3.337951e+06</td>\n",
       "    </tr>\n",
       "    <tr>\n",
       "      <th>2</th>\n",
       "      <td>5.901936e+05</td>\n",
       "    </tr>\n",
       "    <tr>\n",
       "      <th>3</th>\n",
       "      <td>8.344884e+05</td>\n",
       "    </tr>\n",
       "    <tr>\n",
       "      <th>4</th>\n",
       "      <td>7.399086e+05</td>\n",
       "    </tr>\n",
       "    <tr>\n",
       "      <th>5</th>\n",
       "      <td>5.434721e+05</td>\n",
       "    </tr>\n",
       "  </tbody>\n",
       "</table>\n",
       "</div>"
      ],
      "text/plain": [
       "           SALE PRICE\n",
       "BOROUGH              \n",
       "1        3.337951e+06\n",
       "2        5.901936e+05\n",
       "3        8.344884e+05\n",
       "4        7.399086e+05\n",
       "5        5.434721e+05"
      ]
     },
     "execution_count": 8,
     "metadata": {},
     "output_type": "execute_result"
    }
   ],
   "source": [
    "# pre-processing\n",
    "df_borough = df[[\"BOROUGH\", \"SALE PRICE\"]]\n",
    "borough_price = df_borough.groupby(['BOROUGH'], axis=0).mean()\n",
    "borough_price"
   ]
  },
  {
   "cell_type": "markdown",
   "id": "c2a95e24",
   "metadata": {},
   "source": [
    "# B. Measure of Central Tendency: Median"
   ]
  },
  {
   "cell_type": "markdown",
   "id": "a60355dd",
   "metadata": {},
   "source": [
    "**Question :** Berapa nilai tengah dari tahun pembangunan rumah di Manhattan (Broough 1)?"
   ]
  },
  {
   "cell_type": "code",
   "execution_count": 9,
   "id": "2ae93e3b",
   "metadata": {},
   "outputs": [
    {
     "data": {
      "text/plain": [
       "0        1900\n",
       "1        1900\n",
       "2        1900\n",
       "3        1913\n",
       "4        1900\n",
       "         ... \n",
       "18301    1990\n",
       "18302       0\n",
       "18303    1969\n",
       "18304    1967\n",
       "18305    2005\n",
       "Name: YEAR BUILT, Length: 18306, dtype: int64"
      ]
     },
     "execution_count": 9,
     "metadata": {},
     "output_type": "execute_result"
    }
   ],
   "source": [
    "# pre-processing\n",
    "year_b1 = df.loc[df['BOROUGH']==1, 'YEAR BUILT']\n",
    "year_b1"
   ]
  },
  {
   "cell_type": "code",
   "execution_count": 10,
   "id": "cb5dc656",
   "metadata": {},
   "outputs": [
    {
     "data": {
      "text/plain": [
       "1938.0"
      ]
     },
     "execution_count": 10,
     "metadata": {},
     "output_type": "execute_result"
    }
   ],
   "source": [
    "year_b1.median()"
   ]
  },
  {
   "cell_type": "markdown",
   "id": "1c3b5836",
   "metadata": {},
   "source": [
    "# C. Measure of Central Tendency: Modus"
   ]
  },
  {
   "cell_type": "markdown",
   "id": "86eed9fd",
   "metadata": {},
   "source": [
    "**Question :** Borough mana yang menjual paling banyak apartemen?"
   ]
  },
  {
   "cell_type": "code",
   "execution_count": 11,
   "id": "508e5d58",
   "metadata": {},
   "outputs": [
    {
     "data": {
      "text/plain": [
       "0        1\n",
       "1        1\n",
       "2        1\n",
       "3        1\n",
       "4        1\n",
       "        ..\n",
       "84543    5\n",
       "84544    5\n",
       "84545    5\n",
       "84546    5\n",
       "84547    5\n",
       "Name: BOROUGH, Length: 84548, dtype: int64"
      ]
     },
     "execution_count": 11,
     "metadata": {},
     "output_type": "execute_result"
    }
   ],
   "source": [
    "# pre-processing\n",
    "borough = df['BOROUGH']\n",
    "borough"
   ]
  },
  {
   "cell_type": "code",
   "execution_count": 12,
   "id": "3d6167f5",
   "metadata": {},
   "outputs": [
    {
     "data": {
      "text/plain": [
       "0    4\n",
       "dtype: int64"
      ]
     },
     "execution_count": 12,
     "metadata": {},
     "output_type": "execute_result"
    }
   ],
   "source": [
    "borough.mode()"
   ]
  },
  {
   "cell_type": "markdown",
   "id": "8a71725e",
   "metadata": {},
   "source": [
    "# D. Measure of Spread: Range"
   ]
  },
  {
   "cell_type": "markdown",
   "id": "eebce7e8",
   "metadata": {},
   "source": [
    "**Question :** Berapa range luas tanah apartemen yang terjual pada wilayah Queens (borough = 4)?"
   ]
  },
  {
   "cell_type": "code",
   "execution_count": 14,
   "id": "0dbb7f21",
   "metadata": {},
   "outputs": [
    {
     "data": {
      "text/plain": [
       "0         1633.0\n",
       "1         4616.0\n",
       "2         2212.0\n",
       "3         2272.0\n",
       "4         2369.0\n",
       "          ...   \n",
       "18300     1450.0\n",
       "18301     1260.0\n",
       "18302    13000.0\n",
       "18303    29775.0\n",
       "18304    25875.0\n",
       "Name: LAND SQUARE FEET, Length: 1859, dtype: float64"
      ]
     },
     "execution_count": 14,
     "metadata": {},
     "output_type": "execute_result"
    }
   ],
   "source": [
    "# pre-processing\n",
    "lsf_b4 = df.loc[df['BOROUGH']==1, 'LAND SQUARE FEET']\n",
    "lsf_queens = lsf_b4.dropna()\n",
    "lsf_queens"
   ]
  },
  {
   "cell_type": "code",
   "execution_count": 15,
   "id": "b8bd06af",
   "metadata": {},
   "outputs": [
    {
     "data": {
      "text/plain": [
       "363912.0"
      ]
     },
     "execution_count": 15,
     "metadata": {},
     "output_type": "execute_result"
    }
   ],
   "source": [
    "np.ptp(lsf_queens)"
   ]
  },
  {
   "cell_type": "markdown",
   "id": "bba6345a",
   "metadata": {},
   "source": [
    "# E. Measure of Spread: Variance "
   ]
  },
  {
   "cell_type": "markdown",
   "id": "6846b022",
   "metadata": {},
   "source": [
    "**Question :** Berapa persebaran harga apartemen di new york city?"
   ]
  },
  {
   "cell_type": "code",
   "execution_count": 16,
   "id": "66a29d42",
   "metadata": {},
   "outputs": [
    {
     "data": {
      "text/plain": [
       "0         6625000.0\n",
       "3         3936272.0\n",
       "4         8000000.0\n",
       "6         3192840.0\n",
       "9        16232000.0\n",
       "            ...    \n",
       "84543      450000.0\n",
       "84544      550000.0\n",
       "84545      460000.0\n",
       "84546    11693337.0\n",
       "84547       69300.0\n",
       "Name: SALE PRICE, Length: 69987, dtype: float64"
      ]
     },
     "execution_count": 16,
     "metadata": {},
     "output_type": "execute_result"
    }
   ],
   "source": [
    "# pre-processing\n",
    "price = df[\"SALE PRICE\"].dropna()\n",
    "price"
   ]
  },
  {
   "cell_type": "code",
   "execution_count": 17,
   "id": "32fdbdf5",
   "metadata": {},
   "outputs": [
    {
     "data": {
      "text/plain": [
       "130079849507172.66"
      ]
     },
     "execution_count": 17,
     "metadata": {},
     "output_type": "execute_result"
    }
   ],
   "source": [
    "statistics.variance(price)"
   ]
  },
  {
   "cell_type": "markdown",
   "id": "13c1b236",
   "metadata": {},
   "source": [
    "# F. Measure of Spread: Standard Deviation"
   ]
  },
  {
   "cell_type": "markdown",
   "id": "11bac04f",
   "metadata": {},
   "source": [
    "**Question :** Tentukan standar deviation dari harga apartemen di Staten Island (borough = 5)!"
   ]
  },
  {
   "cell_type": "code",
   "execution_count": 19,
   "id": "237bdf67",
   "metadata": {},
   "outputs": [
    {
     "data": {
      "text/plain": [
       "0         6625000.0\n",
       "3         3936272.0\n",
       "4         8000000.0\n",
       "6         3192840.0\n",
       "9        16232000.0\n",
       "            ...    \n",
       "18296      560000.0\n",
       "18297      475000.0\n",
       "18298      400530.0\n",
       "18300     2000000.0\n",
       "18302     7500000.0\n",
       "Name: SALE PRICE, Length: 14439, dtype: float64"
      ]
     },
     "execution_count": 19,
     "metadata": {},
     "output_type": "execute_result"
    }
   ],
   "source": [
    "# pre-processing\n",
    "price_b5 = df.loc[df['BOROUGH']==1, 'SALE PRICE']\n",
    "price_staten_island = price_b5.dropna()\n",
    "price_staten_island"
   ]
  },
  {
   "cell_type": "code",
   "execution_count": 20,
   "id": "1124f7b3",
   "metadata": {},
   "outputs": [
    {
     "data": {
      "text/plain": [
       "24097782.066643722"
      ]
     },
     "execution_count": 20,
     "metadata": {},
     "output_type": "execute_result"
    }
   ],
   "source": [
    "price_staten_island.std(ddof=1)"
   ]
  },
  {
   "cell_type": "markdown",
   "id": "8f7c8ff1",
   "metadata": {},
   "source": [
    "# G. Probability Distribution"
   ]
  },
  {
   "cell_type": "markdown",
   "id": "3c129038",
   "metadata": {},
   "source": [
    "**Question :** Buatlah plot probability distribusi harga apartemen pada daerah Manhaatan dan simpulkan!"
   ]
  },
  {
   "cell_type": "code",
   "execution_count": 21,
   "id": "cdcc644c",
   "metadata": {},
   "outputs": [],
   "source": [
    "from scipy.stats import norm\n",
    "data_normal = df.loc[df['BOROUGH']==1, 'SALE PRICE'].dropna()"
   ]
  },
  {
   "cell_type": "code",
   "execution_count": 22,
   "id": "a500f430",
   "metadata": {},
   "outputs": [
    {
     "name": "stderr",
     "output_type": "stream",
     "text": [
      "C:\\Users\\HP\\anaconda3\\lib\\site-packages\\seaborn\\distributions.py:2619: FutureWarning: `distplot` is a deprecated function and will be removed in a future version. Please adapt your code to use either `displot` (a figure-level function with similar flexibility) or `histplot` (an axes-level function for histograms).\n",
      "  warnings.warn(msg, FutureWarning)\n"
     ]
    },
    {
     "data": {
      "text/plain": [
       "[Text(0.5, 0, 'Normal Distribution'), Text(0, 0.5, 'Frequency')]"
      ]
     },
     "execution_count": 22,
     "metadata": {},
     "output_type": "execute_result"
    },
    {
     "data": {
      "image/png": "[encoded data removed]",
      "text/plain": [
       "<Figure size 360x360 with 1 Axes>"
      ]
     },
     "metadata": {},
     "output_type": "display_data"
    }
   ],
   "source": [
    "ax = sns.distplot(data_normal,\n",
    "                  bins=100,\n",
    "                  kde=True,\n",
    "                  color='skyblue',\n",
    "                  hist_kws={'linewidth': 15, 'alpha':0.5})\n",
    "ax.set(xlabel='Normal Distribution', ylabel='Frequency')"
   ]
  },
  {
   "cell_type": "markdown",
   "id": "88977dff",
   "metadata": {},
   "source": [
    "**Conclusion :**\n",
    "\n",
    "berdasarkan plot di atas dapat diketahui bahwa distribusi miring ke kanan yang berarti distribusi dengan positive skewness yang berarti nilai mean lebih besar dari nilai median"
   ]
  },
  {
   "cell_type": "markdown",
   "id": "a12583ca",
   "metadata": {},
   "source": [
    "# H. Confidence Intervals"
   ]
  },
  {
   "cell_type": "markdown",
   "id": "104d41c7",
   "metadata": {},
   "source": [
    "**Question :** Tentukan Confidence Interval dari populasi proporsi pada total units apartemen di daerah Manhattan (borough=1)!"
   ]
  },
  {
   "cell_type": "code",
   "execution_count": 23,
   "id": "13485783",
   "metadata": {},
   "outputs": [
    {
     "data": {
      "text/html": [
       "<div>\n",
       "<style scoped>\n",
       "    .dataframe tbody tr th:only-of-type {\n",
       "        vertical-align: middle;\n",
       "    }\n",
       "\n",
       "    .dataframe tbody tr th {\n",
       "        vertical-align: top;\n",
       "    }\n",
       "\n",
       "    .dataframe thead th {\n",
       "        text-align: right;\n",
       "    }\n",
       "</style>\n",
       "<table border=\"1\" class=\"dataframe\">\n",
       "  <thead>\n",
       "    <tr style=\"text-align: right;\">\n",
       "      <th></th>\n",
       "      <th>TOTAL UNITS</th>\n",
       "    </tr>\n",
       "    <tr>\n",
       "      <th>BOROUGH</th>\n",
       "      <th></th>\n",
       "    </tr>\n",
       "  </thead>\n",
       "  <tbody>\n",
       "    <tr>\n",
       "      <th>1</th>\n",
       "      <td>48504</td>\n",
       "    </tr>\n",
       "    <tr>\n",
       "      <th>2</th>\n",
       "      <td>25403</td>\n",
       "    </tr>\n",
       "    <tr>\n",
       "      <th>3</th>\n",
       "      <td>53400</td>\n",
       "    </tr>\n",
       "    <tr>\n",
       "      <th>4</th>\n",
       "      <td>51841</td>\n",
       "    </tr>\n",
       "    <tr>\n",
       "      <th>5</th>\n",
       "      <td>11016</td>\n",
       "    </tr>\n",
       "  </tbody>\n",
       "</table>\n",
       "</div>"
      ],
      "text/plain": [
       "         TOTAL UNITS\n",
       "BOROUGH             \n",
       "1              48504\n",
       "2              25403\n",
       "3              53400\n",
       "4              51841\n",
       "5              11016"
      ]
     },
     "execution_count": 23,
     "metadata": {},
     "output_type": "execute_result"
    }
   ],
   "source": [
    "df[['BOROUGH','TOTAL UNITS']].groupby('BOROUGH').sum()"
   ]
  },
  {
   "cell_type": "code",
   "execution_count": 24,
   "id": "dc357eae",
   "metadata": {},
   "outputs": [
    {
     "data": {
      "text/plain": [
       "0.331062726093782"
      ]
     },
     "execution_count": 24,
     "metadata": {},
     "output_type": "execute_result"
    }
   ],
   "source": [
    "# proporsi total unit borough 1\n",
    "n = 4850 + 25403 + 53400 + 51841 + 11016\n",
    "p_b1 = 48504/n\n",
    "p_b1"
   ]
  },
  {
   "cell_type": "code",
   "execution_count": 25,
   "id": "12cf8c47",
   "metadata": {},
   "outputs": [
    {
     "data": {
      "text/plain": [
       "146510"
      ]
     },
     "execution_count": 25,
     "metadata": {},
     "output_type": "execute_result"
    }
   ],
   "source": [
    "n"
   ]
  },
  {
   "cell_type": "code",
   "execution_count": 26,
   "id": "c4bbb142",
   "metadata": {},
   "outputs": [
    {
     "data": {
      "text/plain": [
       "0.0012294594438593098"
      ]
     },
     "execution_count": 26,
     "metadata": {},
     "output_type": "execute_result"
    }
   ],
   "source": [
    "se_b1 = np.sqrt(p_b1*(1-p_b1)/n)\n",
    "se_b1"
   ]
  },
  {
   "cell_type": "code",
   "execution_count": 27,
   "id": "3c73923b",
   "metadata": {},
   "outputs": [
    {
     "data": {
      "text/plain": [
       "(0.3286529855838178, 0.33347246660374624)"
      ]
     },
     "execution_count": 27,
     "metadata": {},
     "output_type": "execute_result"
    }
   ],
   "source": [
    "z_score = 1.96\n",
    "lcb = p_b1 - z_score * se_b1   #lower\n",
    "ucb = p_b1 + z_score * se_b1   #upper\n",
    "lcb, ucb"
   ]
  },
  {
   "cell_type": "markdown",
   "id": "dff8f75c",
   "metadata": {},
   "source": [
    "# I. Hypothesis Testing"
   ]
  },
  {
   "cell_type": "markdown",
   "id": "fbe37c6c",
   "metadata": {},
   "source": [
    "**Question :** Apakah rata-rata harga rumah yang terjual pada wilayah Brooklyn dan Queens sama?"
   ]
  },
  {
   "cell_type": "markdown",
   "id": "5e408993",
   "metadata": {},
   "source": [
    "H0 : mu1 = mu2"
   ]
  },
  {
   "cell_type": "markdown",
   "id": "e158ed1c",
   "metadata": {},
   "source": [
    "H1 : mu1 =/ mu2"
   ]
  },
  {
   "cell_type": "code",
   "execution_count": 28,
   "id": "94dd23d6",
   "metadata": {},
   "outputs": [],
   "source": [
    "import statsmodels.api as sm"
   ]
  },
  {
   "cell_type": "code",
   "execution_count": 29,
   "id": "936d384e",
   "metadata": {},
   "outputs": [],
   "source": [
    "manhattan = df[df[\"BOROUGH\"] == 1]\n",
    "bronx = df[df[\"BOROUGH\"] == 2]\n",
    "brooklyn = df[df[\"BOROUGH\"] == 3]\n",
    "queens = df[df[\"BOROUGH\"] == 4]\n",
    "staten_island = df[df[\"BOROUGH\"] == 5]"
   ]
  },
  {
   "cell_type": "code",
   "execution_count": 30,
   "id": "24f94ccd",
   "metadata": {},
   "outputs": [
    {
     "data": {
      "text/plain": [
       "(24047, 834488.3717719465, 3935813.428569773)"
      ]
     },
     "execution_count": 30,
     "metadata": {},
     "output_type": "execute_result"
    }
   ],
   "source": [
    "n1 = len(brooklyn)\n",
    "mu1 = brooklyn[\"SALE PRICE\"].mean()\n",
    "sd1 = brooklyn[\"SALE PRICE\"].std()\n",
    "\n",
    "n1, mu1, sd1"
   ]
  },
  {
   "cell_type": "code",
   "execution_count": 31,
   "id": "defd1c7f",
   "metadata": {},
   "outputs": [
    {
     "data": {
      "text/plain": [
       "(26736, 739908.6159102, 3233883.5561785633)"
      ]
     },
     "execution_count": 31,
     "metadata": {},
     "output_type": "execute_result"
    }
   ],
   "source": [
    "n2 = len(queens)\n",
    "mu2 = queens[\"SALE PRICE\"].mean()\n",
    "sd2 = queens[\"SALE PRICE\"].std()\n",
    "\n",
    "n2, mu2, sd2"
   ]
  },
  {
   "cell_type": "code",
   "execution_count": 32,
   "id": "7bec8464",
   "metadata": {},
   "outputs": [
    {
     "data": {
      "text/plain": [
       "(2.6488563571165837, 0.0080764651142228)"
      ]
     },
     "execution_count": 32,
     "metadata": {},
     "output_type": "execute_result"
    }
   ],
   "source": [
    "sm.stats.ztest(brooklyn[\"SALE PRICE\"].dropna(), queens[\"SALE PRICE\"].dropna(), alternative='two-sided')"
   ]
  },
  {
   "cell_type": "markdown",
   "id": "22801553",
   "metadata": {},
   "source": [
    "**Conclusion**\n",
    "\n",
    "karena nilai p-value = 0.008 lebih kecil dari alpha = 0.05, maka kita dapat menolak Null hipotesis yang berarti rata-rata harga apartemen yang terjual di Broklyn dan Queens berbeda."
   ]
  }
 ],
 "metadata": {
  "kernelspec": {
   "display_name": "Python 3 (ipykernel)",
   "language": "python",
   "name": "python3"
  },
  "language_info": {
   "codemirror_mode": {
    "name": "ipython",
    "version": 3
   },
   "file_extension": ".py",
   "mimetype": "text/x-python",
   "name": "python",
   "nbconvert_exporter": "python",
   "pygments_lexer": "ipython3",
   "version": "3.9.7"
  }
 },
 "nbformat": 4,
 "nbformat_minor": 5
}
