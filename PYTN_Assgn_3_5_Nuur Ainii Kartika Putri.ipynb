{
 "cells": [
  {
   "cell_type": "code",
   "execution_count": null,
   "id": "58fcd819",
   "metadata": {},
   "outputs": [],
   "source": [
    "import pandas as pd"
   ]
  },
  {
   "cell_type": "code",
   "execution_count": null,
   "id": "dd966293",
   "metadata": {},
   "outputs": [],
   "source": [
    "bank = pd.read_csv('bank.csv', sep=';')\n",
    "bank_add_full = pd.read_csv('bank-additional-full.csv', sep=';')\n",
    "bank_add = pd.read_csv('bank-additional.csv', sep=';')\n",
    "bank_full = pd.read_csv('bank-full.csv', sep=';')"
   ]
  },
  {
   "cell_type": "markdown",
   "id": "1962990d",
   "metadata": {},
   "source": [
    "# 1. Logistic Regression"
   ]
  },
  {
   "cell_type": "code",
   "execution_count": null,
   "id": "1e13c348",
   "metadata": {},
   "outputs": [],
   "source": [
    "# Step 1: Import Packages, Functions, and Classes\n",
    "import matplotlib.pyplot as plt\n",
    "import numpy as np\n",
    "\n",
    "from sklearn.datasets import load_digits\n",
    "from sklearn.linear_model import LogisticRegression\n",
    "from sklearn.metrics import classification_report, confusion_matrix\n",
    "from sklearn.model_selection import train_test_split\n",
    "from sklearn.preprocessing import StandardScaler"
   ]
  },
  {
   "cell_type": "code",
   "execution_count": null,
   "id": "956daf5b",
   "metadata": {},
   "outputs": [],
   "source": [
    "bank_add_full.info()"
   ]
  },
  {
   "cell_type": "code",
   "execution_count": null,
   "id": "0d76dfa4",
   "metadata": {},
   "outputs": [],
   "source": [
    "bank_add_full['education'].unique()"
   ]
  },
  {
   "cell_type": "code",
   "execution_count": null,
   "id": "31f2c7f2",
   "metadata": {},
   "outputs": [],
   "source": [
    "bank_add_full['education']=np.where(bank_add_full['education'] =='basic.9y', 'Basic', bank_add_full['education'])\n",
    "bank_add_full['education']=np.where(bank_add_full['education'] =='basic.6y', 'Basic', bank_add_full['education'])\n",
    "bank_add_full['education']=np.where(bank_add_full['education'] =='basic.4y', 'Basic', bank_add_full['education'])"
   ]
  },
  {
   "cell_type": "code",
   "execution_count": null,
   "id": "f63d0ae3",
   "metadata": {},
   "outputs": [],
   "source": [
    "# data exploration\n",
    "bank_add_full['y'].value_counts()"
   ]
  },
  {
   "cell_type": "code",
   "execution_count": null,
   "id": "c5b83957",
   "metadata": {},
   "outputs": [],
   "source": [
    "count_no_sub = len(bank_add_full[bank_add_full['y']=='no'])\n",
    "count_sub = len(bank_add_full[bank_add_full['y']=='yes'])\n",
    "pct_of_no_sub = count_no_sub/(count_no_sub+count_sub)\n",
    "print(\"percentage of no subscription is\", pct_of_no_sub*100)\n",
    "pct_of_sub = count_sub/(count_no_sub+count_sub)\n",
    "print(\"percentage of subscription\", pct_of_sub*100)"
   ]
  },
  {
   "cell_type": "markdown",
   "id": "c68f4203",
   "metadata": {},
   "source": [
    "dapat terlihat bahwa rasio dari no-subscription dan subscription tidak imbang sebesar 89:11"
   ]
  },
  {
   "cell_type": "code",
   "execution_count": null,
   "id": "f0555e81",
   "metadata": {},
   "outputs": [],
   "source": [
    "# creaet variabel dummy\n",
    "cat_vars=['job','marital','education','default','housing','loan','contact','month','day_of_week','poutcome']\n",
    "for var in cat_vars:\n",
    "    cat_list='var'+'_'+var\n",
    "    cat_list = pd.get_dummies(bank_add_full[var], prefix=var)\n",
    "    data=bank_add_full.join(cat_list)\n",
    "    bank_add_full=data\n",
    "cat_vars=['job','marital','education','default','housing','loan','contact','month','day_of_week','poutcome']\n",
    "data_vars=bank_add_full.columns.values.tolist()\n",
    "to_keep=[i for i in data_vars if i not in cat_vars]"
   ]
  },
  {
   "cell_type": "code",
   "execution_count": null,
   "id": "81cb2cf1",
   "metadata": {},
   "outputs": [],
   "source": [
    "data_final=bank_add_full[to_keep]\n",
    "data_final.columns.values"
   ]
  },
  {
   "cell_type": "code",
   "execution_count": null,
   "id": "04305914",
   "metadata": {},
   "outputs": [],
   "source": [
    "X = data_final.loc[:, data_final.columns != 'y']\n",
    "y = data_final.loc[:, data_final.columns == 'y']\n",
    "\n",
    "# split data\n",
    "X_train, X_test, y_train, y_test = train_test_split(X, y, test_size=0.3, random_state=0)\n",
    "\n",
    "# scale data\n",
    "scaler = StandardScaler()\n",
    "X_train = scaler.fit_transform(X_train)"
   ]
  },
  {
   "cell_type": "code",
   "execution_count": null,
   "id": "47025e17",
   "metadata": {},
   "outputs": [],
   "source": [
    "# create a model\n",
    "model = LogisticRegression(solver='liblinear', C=0.05, multi_class='ovr', random_state=0)\n",
    "model.fit(X_train, y_train)"
   ]
  },
  {
   "cell_type": "code",
   "execution_count": null,
   "id": "39e97cbf",
   "metadata": {},
   "outputs": [],
   "source": [
    "# step 4 : evaluate the model\n",
    "X_test = scaler.transform(X_test)\n",
    "y_pred = model.predict(X_test)\n",
    "\n",
    "model.score(X_train, y_train)"
   ]
  },
  {
   "cell_type": "markdown",
   "id": "0cb09218",
   "metadata": {},
   "source": [
    "Dari hasil observasi dapat diketahui bahwa akurasi model dari data yang diklasifikasikan benar sebesar 91%"
   ]
  },
  {
   "cell_type": "markdown",
   "id": "ef97cf9e",
   "metadata": {},
   "source": [
    "### Confusion Matrix"
   ]
  },
  {
   "cell_type": "code",
   "execution_count": null,
   "id": "44e9f9ce",
   "metadata": {},
   "outputs": [],
   "source": [
    "# confusion matrix\n",
    "from sklearn.metrics import classification_report, confusion_matrix\n",
    "print(confusion_matrix(y_test, y_pred))"
   ]
  },
  {
   "cell_type": "code",
   "execution_count": null,
   "id": "f12e75ac",
   "metadata": {},
   "outputs": [],
   "source": [
    "# mendapatkan laporan yg lebih komprehensif dengan classification_report()\n",
    "print(classification_report(y, model.predict(X)))"
   ]
  },
  {
   "cell_type": "code",
   "execution_count": null,
   "id": "a47c6786",
   "metadata": {},
   "outputs": [],
   "source": [
    "# improve the model\n",
    "model = LogisticRegression(solver='liblinear', C=10.0, multi_class='ovr', random_state=0)\n",
    "model.fit(X,y)\n",
    "\n",
    "print(\"intercept :\",model.intercept_)\n",
    "print(\"coefisien :\",model.coef_)"
   ]
  },
  {
   "cell_type": "code",
   "execution_count": null,
   "id": "f1ace94c",
   "metadata": {},
   "outputs": [],
   "source": [
    "print(model.predict_proba(X))"
   ]
  },
  {
   "cell_type": "code",
   "execution_count": null,
   "id": "4f03e031",
   "metadata": {},
   "outputs": [],
   "source": [
    "print(\"y pred :\",model.predict(X))"
   ]
  },
  {
   "cell_type": "code",
   "execution_count": null,
   "id": "9474345a",
   "metadata": {},
   "outputs": [],
   "source": [
    "print(\"nilai akurasi:\",model.score(X,y))"
   ]
  },
  {
   "cell_type": "markdown",
   "id": "e64c6273",
   "metadata": {},
   "source": [
    "**Diperoleh nilai akurasi model hasil pengamatan sebesar 91%**"
   ]
  },
  {
   "cell_type": "markdown",
   "id": "18050cf5",
   "metadata": {},
   "source": [
    "# 2. K-Nearest Neighbors"
   ]
  },
  {
   "cell_type": "code",
   "execution_count": null,
   "id": "fc8ec970",
   "metadata": {},
   "outputs": [],
   "source": [
    "bank.info()"
   ]
  },
  {
   "cell_type": "code",
   "execution_count": null,
   "id": "e1507eed",
   "metadata": {},
   "outputs": [],
   "source": [
    "# change variable into categorical\n",
    "knn = bank.select_dtypes(include=['object']).copy()\n",
    "nRows, nCols = knn.shape\n",
    "for myIndex in range(0,nCols):\n",
    "    headerName = knn.columns[myIndex]\n",
    "    knn[headerName] = knn[headerName].astype(\"category\")\n",
    "    knn[headerName] = knn[headerName].cat.codes\n",
    "    bank[headerName] = knn[headerName]\n",
    "knn_numeric = bank\n",
    "knn_numeric.head()"
   ]
  },
  {
   "cell_type": "code",
   "execution_count": null,
   "id": "99e88b9d",
   "metadata": {},
   "outputs": [],
   "source": [
    "x = knn_numeric.loc[:, knn_numeric.columns != 'y']\n",
    "y = knn_numeric.loc[:, knn_numeric.columns == 'y']"
   ]
  },
  {
   "cell_type": "code",
   "execution_count": null,
   "id": "91580524",
   "metadata": {},
   "outputs": [],
   "source": [
    "from sklearn.neighbors import KNeighborsClassifier\n",
    "\n",
    "model = KNeighborsClassifier(n_neighbors=5)\n",
    "\n",
    "# spliting data\n",
    "from sklearn.model_selection import train_test_split\n",
    "x_train, x_test, y_train, y_test = train_test_split(x, y, test_size = 0.2, random_state = 123)\n",
    "\n",
    "# scaling data\n",
    "scaler = StandardScaler()\n",
    "scaler.fit(x_train)\n",
    "\n",
    "x_train = scaler.fit_transform(x_train)\n",
    "x_test = scaler.transform(x_test)\n",
    "\n",
    "model.fit(x_train,y_train)\n",
    "y_pred = model.predict(x_test)"
   ]
  },
  {
   "cell_type": "code",
   "execution_count": null,
   "id": "d66ebe19",
   "metadata": {},
   "outputs": [],
   "source": [
    "model.predict_proba(x_test)"
   ]
  },
  {
   "cell_type": "markdown",
   "id": "57695388",
   "metadata": {},
   "source": [
    "### Confusion Matrix"
   ]
  },
  {
   "cell_type": "code",
   "execution_count": null,
   "id": "2a1f5355",
   "metadata": {},
   "outputs": [],
   "source": [
    "from sklearn.metrics import classification_report, confusion_matrix\n",
    "\n",
    "print(confusion_matrix(y_test, y_pred))"
   ]
  },
  {
   "cell_type": "markdown",
   "id": "703ba84c",
   "metadata": {},
   "source": [
    "**Artinya :**\n",
    "- Terdapat 788 true negatif pada 788 observasi pertama\n",
    "- Terdapat 76 false negatif\n",
    "- Terdapat 20 false positif pada pengamatan\n",
    "- Terdapat 21 true positif pada 21 observasi terakhir"
   ]
  },
  {
   "cell_type": "code",
   "execution_count": null,
   "id": "490df1df",
   "metadata": {},
   "outputs": [],
   "source": [
    "# evaluate the model\n",
    "from sklearn import metrics\n",
    "\n",
    "# model akurasi\n",
    "print(\"Accuracy:\",metrics.accuracy_score(y_test,y_pred))"
   ]
  },
  {
   "cell_type": "markdown",
   "id": "dbe59b4d",
   "metadata": {},
   "source": [
    "**Diperoleh nilai akurasi model hasil pengamatan sebesar 85.55%**"
   ]
  },
  {
   "cell_type": "markdown",
   "id": "a9a124f0",
   "metadata": {},
   "source": [
    "# 3. Support Vector Machine"
   ]
  },
  {
   "cell_type": "code",
   "execution_count": null,
   "id": "c337edd7",
   "metadata": {},
   "outputs": [],
   "source": [
    "feature_cols = ['age','job','marital','education','default','balance','housing','loan',\n",
    "                 'contact','day','month','duration','campaign','pdays','previous','poutcome']\n",
    "\n",
    "X = bank[feature_cols]\n",
    "y = bank.loc[:, bank.columns == 'y']\n",
    "\n",
    "# spliting data\n",
    "from sklearn.model_selection import train_test_split\n",
    "X_train, X_test, y_train, y_test = train_test_split(X, y, test_size = 0.3, random_state = 109)"
   ]
  },
  {
   "cell_type": "code",
   "execution_count": null,
   "id": "930c86ce",
   "metadata": {},
   "outputs": [],
   "source": [
    "# generating model\n",
    "from sklearn import svm\n",
    "\n",
    "# ctreate as svm Classifier\n",
    "clf = svm.SVC(kernel='linear')\n",
    "\n",
    "# train the model\n",
    "clf.fit(X_train, y_train)\n",
    "\n",
    "# predict the model\n",
    "y_pred = clf.predict(X_test)"
   ]
  },
  {
   "cell_type": "markdown",
   "id": "5b3585b6",
   "metadata": {},
   "source": [
    "### Confusion Matrix"
   ]
  },
  {
   "cell_type": "code",
   "execution_count": null,
   "id": "fb87857e",
   "metadata": {},
   "outputs": [],
   "source": [
    "from sklearn.metrics import classification_report, confusion_matrix\n",
    "\n",
    "print(confusion_matrix(y_test, y_pred))"
   ]
  },
  {
   "cell_type": "markdown",
   "id": "70053c6e",
   "metadata": {},
   "source": [
    "**Artinya :**\n",
    "- Terdapat 1093 true negatif\n",
    "- Terdapat 77 false negatif\n",
    "- Terdapat 119 false positif pada pengamatan\n",
    "- Terdapat 68 true positif pada 21 observasi terakhir"
   ]
  },
  {
   "cell_type": "code",
   "execution_count": null,
   "id": "cd077da5",
   "metadata": {},
   "outputs": [],
   "source": [
    "# evaluate the model\n",
    "from sklearn import metrics\n",
    "\n",
    "# model akurasi\n",
    "print(\"Accuracy:\",metrics.accuracy_score(y_test,y_pred))"
   ]
  },
  {
   "cell_type": "markdown",
   "id": "139eb394",
   "metadata": {},
   "source": [
    "**Diperoleh nilai akurasi model hasil pengamatan sebesar 87.9%**"
   ]
  },
  {
   "cell_type": "markdown",
   "id": "fa86a208",
   "metadata": {},
   "source": [
    "# 4. Decision Tree"
   ]
  },
  {
   "cell_type": "code",
   "execution_count": null,
   "id": "873b2047",
   "metadata": {},
   "outputs": [],
   "source": [
    "feature_cols = ['age','job','marital','education','default','balance','housing','loan',\n",
    "                 'contact','day','month','duration','campaign','pdays','previous','poutcome']\n",
    "X = bank[feature_cols]\n",
    "y = bank.loc[:, bank.columns == 'y']\n",
    "\n",
    "# spliting data\n",
    "from sklearn.model_selection import train_test_split\n",
    "X_train, X_test, y_train, y_test = train_test_split(X, y, test_size = 0.3, random_state = 123)"
   ]
  },
  {
   "cell_type": "code",
   "execution_count": null,
   "id": "1c7ad51d",
   "metadata": {},
   "outputs": [],
   "source": [
    "# training and making prediction\n",
    "from sklearn.tree import DecisionTreeClassifier\n",
    "classifier = DecisionTreeClassifier()\n",
    "classifier.fit(X_train, y_train)\n",
    "\n",
    "y_pred = classifier.predict(X_test)\n",
    "y_pred"
   ]
  },
  {
   "cell_type": "markdown",
   "id": "6f66765d",
   "metadata": {},
   "source": [
    "### Confusion Matrix"
   ]
  },
  {
   "cell_type": "code",
   "execution_count": null,
   "id": "419c9027",
   "metadata": {},
   "outputs": [],
   "source": [
    "# evaluate model\n",
    "from sklearn.metrics import classification_report, confusion_matrix\n",
    "print(confusion_matrix(y_test, y_pred))"
   ]
  },
  {
   "cell_type": "markdown",
   "id": "af3f2b79",
   "metadata": {},
   "source": [
    "**Artinya :**\n",
    "- Terdapat 1093 true negatif\n",
    "- Terdapat 77 false negatif\n",
    "- Terdapat 119 false positif pada pengamatan\n",
    "- Terdapat 68 true positif pada 21 observasi terakhir"
   ]
  },
  {
   "cell_type": "code",
   "execution_count": null,
   "id": "bd43ea71",
   "metadata": {},
   "outputs": [],
   "source": [
    "print(classification_report(y_test, y_pred))"
   ]
  },
  {
   "cell_type": "code",
   "execution_count": null,
   "id": "d953ade7",
   "metadata": {},
   "outputs": [],
   "source": [
    "from sklearn import metrics\n",
    "\n",
    "# model accuracy\n",
    "print(\"Accuracy:\",metrics.accuracy_score(y_test,y_pred))"
   ]
  },
  {
   "cell_type": "markdown",
   "id": "03ed1763",
   "metadata": {},
   "source": [
    "**Dapat diketahui bahwa dari total 1357 data observasi terdapat 158 missclasified dengan akurasi model sebesar 88%**"
   ]
  },
  {
   "cell_type": "code",
   "execution_count": null,
   "id": "53b37b9e",
   "metadata": {},
   "outputs": [],
   "source": [
    "# visualisasi Decision Tree\n",
    "features = bank.loc[:, bank.columns != 'y']\n",
    "\n",
    "import sklearn.tree as tree\n",
    "import pydotplus\n",
    "from six import StringIO\n",
    "from IPython.display import Image\n",
    "\n",
    "dot_data = StringIO()\n",
    "tree.export_graphviz(classifier,\n",
    "                     out_file=dot_data,\n",
    "                     class_names=['0', '1'], \n",
    "                     feature_names=feature_cols, \n",
    "                     filled=True,\n",
    "                     rounded=True, \n",
    "                     special_characters=True)\n",
    "graph = pydotplus.graph_from_dot_data(dot_data.getvalue())\n",
    "Image(graph.create_png())"
   ]
  },
  {
   "cell_type": "markdown",
   "id": "81bcdba5",
   "metadata": {},
   "source": [
    "# 5. Random Forest"
   ]
  },
  {
   "cell_type": "code",
   "execution_count": null,
   "id": "9905e476",
   "metadata": {},
   "outputs": [],
   "source": [
    "feature_cols = ['age','job','marital','education','default','balance','housing','loan',\n",
    "                 'contact','day','month','duration','campaign','pdays','previous','poutcome']\n",
    "X = bank[feature_cols]\n",
    "y = bank.loc[:, bank.columns == 'y']\n",
    "\n",
    "# spliting data\n",
    "from sklearn.model_selection import train_test_split\n",
    "X_train, X_test, y_train, y_test = train_test_split(X, y, test_size = 0.3, random_state = 123)"
   ]
  },
  {
   "cell_type": "code",
   "execution_count": null,
   "id": "870b215a",
   "metadata": {},
   "outputs": [],
   "source": [
    "from sklearn.ensemble import RandomForestClassifier\n",
    "\n",
    "# create a gaussian classifier\n",
    "rf=RandomForestClassifier(n_estimators=100)\n",
    "\n",
    "# train the model\n",
    "rf.fit(X_train,y_train)\n",
    "\n",
    "# predict\n",
    "y_pred = rf.predict(X_test)"
   ]
  },
  {
   "cell_type": "markdown",
   "id": "8996b83b",
   "metadata": {},
   "source": [
    "### Confusion Matrix"
   ]
  },
  {
   "cell_type": "code",
   "execution_count": null,
   "id": "c9d4c42a",
   "metadata": {},
   "outputs": [],
   "source": [
    "# confusion matrix\n",
    "from sklearn.metrics import classification_report, confusion_matrix\n",
    "print(confusion_matrix(y_test, y_pred))"
   ]
  },
  {
   "cell_type": "markdown",
   "id": "9656faa4",
   "metadata": {},
   "source": [
    "**Artinya :**\n",
    "- Terdapat 1093 true negatif\n",
    "- Terdapat 77 false negatif\n",
    "- Terdapat 119 false positif pada pengamatan\n",
    "- Terdapat 68 true positif pada 21 observasi terakhir"
   ]
  },
  {
   "cell_type": "code",
   "execution_count": null,
   "id": "5703b173",
   "metadata": {},
   "outputs": [],
   "source": [
    "from sklearn import metrics\n",
    "\n",
    "# model accuracy\n",
    "print(\"Accuracy:\",metrics.accuracy_score(y_test,y_pred))"
   ]
  },
  {
   "cell_type": "markdown",
   "id": "3b56da04",
   "metadata": {},
   "source": [
    "**Diperoleh nilai akurasi model hasil pengamatan sebesar 90.7%**"
   ]
  },
  {
   "cell_type": "markdown",
   "id": "c376e6e0",
   "metadata": {},
   "source": [
    "# 6. Naive Bayes"
   ]
  },
  {
   "cell_type": "code",
   "execution_count": null,
   "id": "714a0667",
   "metadata": {},
   "outputs": [],
   "source": [
    "x = bank.loc[:, bank.columns != 'y']\n",
    "y = bank.loc[:, bank.columns == 'y']\n",
    "\n",
    "# spliting data\n",
    "from sklearn.model_selection import train_test_split\n",
    "x_train, x_test, y_train, y_test = train_test_split(x, y, test_size = 0.3, random_state = 123)"
   ]
  },
  {
   "cell_type": "code",
   "execution_count": null,
   "id": "07341987",
   "metadata": {},
   "outputs": [],
   "source": [
    "# Import Gaussian Naive Bayes model\n",
    "from sklearn.naive_bayes import GaussianNB\n",
    "\n",
    "# create gaussian classifier\n",
    "model = GaussianNB()\n",
    "\n",
    "# train the model\n",
    "model.fit(x_train,y_train)\n",
    "\n",
    "# predict output\n",
    "y_pred = model.predict(x_test)\n",
    "print(y_pred)"
   ]
  },
  {
   "cell_type": "markdown",
   "id": "171f7a3f",
   "metadata": {},
   "source": [
    "### Confusion Matrix"
   ]
  },
  {
   "cell_type": "code",
   "execution_count": null,
   "id": "1fe55261",
   "metadata": {},
   "outputs": [],
   "source": [
    "# confusion matrix\n",
    "from sklearn.metrics import classification_report, confusion_matrix\n",
    "print(confusion_matrix(y_test, y_pred))"
   ]
  },
  {
   "cell_type": "markdown",
   "id": "3188421f",
   "metadata": {},
   "source": [
    "**Artinya :**\n",
    "- Terdapat 1093 true negatif\n",
    "- Terdapat 77 false negatif\n",
    "- Terdapat 119 false positif pada pengamatan\n",
    "- Terdapat 68 true positif pada 21 observasi terakhir"
   ]
  },
  {
   "cell_type": "code",
   "execution_count": null,
   "id": "73f34b49",
   "metadata": {},
   "outputs": [],
   "source": [
    "from sklearn import metrics\n",
    "\n",
    "# model accuracy\n",
    "print(\"Accuracy:\",metrics.accuracy_score(y_test,y_pred))"
   ]
  },
  {
   "cell_type": "markdown",
   "id": "9804bf69",
   "metadata": {},
   "source": [
    "Dapat diketahui bahwa akurasi hasil observasi data sebesar 85.55%"
   ]
  },
  {
   "cell_type": "markdown",
   "id": "7a1163c7",
   "metadata": {},
   "source": [
    "# 7. Algorithm Analysis"
   ]
  },
  {
   "cell_type": "markdown",
   "id": "e8374180",
   "metadata": {},
   "source": [
    "Setelah dilakukan analasis dengan berbagai metode pengklasifikan, diperoleh nilai akurasi dari masing-masing model sebagai berikut:\n",
    "\n",
    "1. Logistic Regregression = 91%\n",
    "2. K-Nearest Neighbors = 85.%\n",
    "3. Support Vector Machine = 87.9%\n",
    "4. Decision Tree = 88%\n",
    "5. Random Forest = 90.7%\n",
    "6. Naive Bayes = 85.55%\n",
    "\n",
    "Berdasarkan besaran nilai akurasi pada tiap-tiap model, didapatkan model terbaik yaitu model Logistic Regression dengan nilai akurasi sebesar 91%"
   ]
  }
 ],
 "metadata": {
  "kernelspec": {
   "display_name": "Python 3 (ipykernel)",
   "language": "python",
   "name": "python3"
  },
  "language_info": {
   "codemirror_mode": {
    "name": "ipython",
    "version": 3
   },
   "file_extension": ".py",
   "mimetype": "text/x-python",
   "name": "python",
   "nbconvert_exporter": "python",
   "pygments_lexer": "ipython3",
   "version": "3.9.7"
  }
 },
 "nbformat": 4,
 "nbformat_minor": 5
}
